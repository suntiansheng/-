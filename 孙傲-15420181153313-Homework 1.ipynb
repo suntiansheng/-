{
 "cells": [
  {
   "cell_type": "markdown",
   "metadata": {},
   "source": [
    "# 孙傲-15420181153313-Homework 1"
   ]
  },
  {
   "cell_type": "markdown",
   "metadata": {},
   "source": [
    "孙傲\n",
    "\n",
    "15420181153313\n",
    "\n",
    "数理统计系"
   ]
  },
  {
   "cell_type": "code",
   "execution_count": 1,
   "metadata": {},
   "outputs": [],
   "source": [
    "import numpy as np\n",
    "import random\n",
    "import math"
   ]
  },
  {
   "cell_type": "markdown",
   "metadata": {},
   "source": [
    "## 44 ex9 "
   ]
  },
  {
   "cell_type": "code",
   "execution_count": 2,
   "metadata": {},
   "outputs": [
    {
     "data": {
      "text/latex": [
       "$I = \\int_{0}^{\\infty}\\int_{0}^{\\infty} e^{-x+y} I_y(x)dydx$\n",
       "$= \\int_0^1\\int_0^1 e^{\\frac{1}{r} + \\frac{1}{\\rho}}I_{\\rho}(r)\\frac{1}{\\rho^2}\\frac{1}{r^2}d\\rho dr$"
      ],
      "text/plain": [
       "<IPython.core.display.Latex object>"
      ]
     },
     "metadata": {},
     "output_type": "display_data"
    }
   ],
   "source": [
    "%%latex\n",
    "$I = \\int_{0}^{\\infty}\\int_{0}^{\\infty} e^{-x+y} I_y(x)dydx$\n",
    "$= \\int_0^1\\int_0^1 e^{\\frac{1}{r} + \\frac{1}{\\rho}}I_{\\rho}(r)\\frac{1}{\\rho^2}\\frac{1}{r^2}d\\rho dr$"
   ]
  },
  {
   "cell_type": "code",
   "execution_count": 3,
   "metadata": {},
   "outputs": [
    {
     "data": {
      "text/plain": [
       "0.5003580604235456"
      ]
     },
     "execution_count": 3,
     "metadata": {},
     "output_type": "execute_result"
    }
   ],
   "source": [
    "# 定义I_y(x)\n",
    "def I(x,y):\n",
    "    if x > y: x = 1\n",
    "    else : x = 0\n",
    "    return x\n",
    "\n",
    "# 定义g(x,y)\n",
    "def fun1(x, y):\n",
    "    return np.exp(-(1/x + 1/y - 2))*I(x,y)*(1/x**2)*(1/y**2)\n",
    "\n",
    "# 定义模拟函数\n",
    "def simulation():\n",
    "    x = np.random.random()\n",
    "    y = np.random.random()\n",
    "    return fun1(x,y)\n",
    "\n",
    "# 模拟\n",
    "ls = []\n",
    "i = 0\n",
    "while i <=100000:\n",
    "    ls.append(simulation())\n",
    "    i += 1\n",
    "    \n",
    "ls = np.array(ls)\n",
    "ls.mean()"
   ]
  },
  {
   "cell_type": "markdown",
   "metadata": {},
   "source": [
    "## 45 ex. 10 "
   ]
  },
  {
   "cell_type": "code",
   "execution_count": 4,
   "metadata": {},
   "outputs": [
    {
     "name": "stdout",
     "output_type": "stream",
     "text": [
      "0.9999900397959406 0.4997040071759051 1.7188893350723544\n"
     ]
    },
    {
     "data": {
      "text/plain": [
       "0.14105415116835807"
      ]
     },
     "execution_count": 4,
     "metadata": {},
     "output_type": "execute_result"
    }
   ],
   "source": [
    "def fun2(x):\n",
    "    return x*np.exp(x)\n",
    "\n",
    "def simulation():\n",
    "    x = np.random.random()\n",
    "    y = np.random.random()\n",
    "    z = np.random.random()\n",
    "    return fun2(x), y, np.exp(z)\n",
    "\n",
    "ls1 = []\n",
    "ls2 = []\n",
    "ls3 = []\n",
    "\n",
    "i = 0\n",
    "while i <=100000:\n",
    "    ls1.append(simulation()[0])\n",
    "    ls2.append(simulation()[1])\n",
    "    ls3.append(simulation()[2])\n",
    "    i += 1\n",
    "    \n",
    "ls1 = np.array(ls1)\n",
    "ls2 = np.array(ls2)\n",
    "ls3 = np.array(ls3)\n",
    "print(ls1.mean(),ls2.mean(), ls3.mean())\n",
    "ls1.mean() - ls2.mean() * ls3.mean()"
   ]
  },
  {
   "cell_type": "markdown",
   "metadata": {},
   "source": [
    "## 45 ex12 "
   ]
  },
  {
   "cell_type": "code",
   "execution_count": 5,
   "metadata": {},
   "outputs": [],
   "source": [
    "def simulation():\n",
    "    n = 0\n",
    "    u = 0\n",
    "    while u <= 1:\n",
    "        #print(u)\n",
    "        i = np.random.random()\n",
    "        #print(i)\n",
    "        u = u + i\n",
    "        #print(u)\n",
    "        n += 1\n",
    "    return n"
   ]
  },
  {
   "cell_type": "code",
   "execution_count": 6,
   "metadata": {},
   "outputs": [
    {
     "data": {
      "text/plain": [
       "3"
      ]
     },
     "execution_count": 6,
     "metadata": {},
     "output_type": "execute_result"
    }
   ],
   "source": [
    "simulation()"
   ]
  },
  {
   "cell_type": "code",
   "execution_count": 7,
   "metadata": {},
   "outputs": [
    {
     "name": "stdout",
     "output_type": "stream",
     "text": [
      "100 times 2.64\n",
      "1000 times 2.677\n",
      "10000 times 2.7147\n"
     ]
    }
   ],
   "source": [
    "####100\n",
    "ls = []\n",
    "i = 0\n",
    "while i < 100:\n",
    "    ls.append(simulation())\n",
    "    i = i + 1\n",
    "\n",
    "print('100 times',np.mean(ls))\n",
    "\n",
    "####1000\n",
    "ls = []\n",
    "i = 0\n",
    "while i < 1000:\n",
    "    ls.append(simulation())\n",
    "    i = i + 1\n",
    "\n",
    "print('1000 times',np.mean(ls))\n",
    "\n",
    "ls = []\n",
    "i = 0\n",
    "while i < 10000:\n",
    "    ls.append(simulation())\n",
    "    i = i + 1\n",
    "\n",
    "print('10000 times',np.mean(ls))"
   ]
  },
  {
   "cell_type": "markdown",
   "metadata": {},
   "source": [
    "## 64 ex4 "
   ]
  },
  {
   "cell_type": "code",
   "execution_count": 8,
   "metadata": {},
   "outputs": [
    {
     "name": "stdout",
     "output_type": "stream",
     "text": [
      "mean 0.9906 var 0.9903116399999999\n"
     ]
    }
   ],
   "source": [
    "i = 0\n",
    "base = np.linspace(1,100,100,dtype=np.int)\n",
    "k = [ ]\n",
    "\n",
    "while i < 10000:\n",
    "    l = np.array(random.sample(range(1,101),100))\n",
    "    res = (l == base)\n",
    "    k.append(res.sum())\n",
    "    i += 1\n",
    "\n",
    "print('mean', np.mean(k), 'var', np.var(k))"
   ]
  },
  {
   "cell_type": "markdown",
   "metadata": {},
   "source": [
    "## ex 抽奖"
   ]
  },
  {
   "cell_type": "code",
   "execution_count": 9,
   "metadata": {},
   "outputs": [],
   "source": [
    "ls = [1,2,3]\n",
    "gamer = random.sample(ls,k = 1)\n",
    "prize = random.sample(ls,k = 1)\n",
    "\n",
    "# 定义主持人\n",
    "def host(gamer, prize):\n",
    "    ls = [1,2,3]\n",
    "    ls.remove(gamer[0])\n",
    "    if prize[0] in ls:\n",
    "        ls.remove(prize[0])\n",
    "        choice = ls\n",
    "    else:\n",
    "        choice = random.sample(ls, k = 1)\n",
    "    return choice\n",
    "\n",
    "#print('prize', prize,'gamer', gamer)\n",
    "\n",
    "# 模拟游戏\n",
    "def simulation():\n",
    "    ls = [1,2,3]\n",
    "    gamer = random.sample(ls,k = 1)\n",
    "    prize = random.sample(ls,k = 1)\n",
    "    #print('prize', prize,'gamer', gamer)\n",
    "    not_change = 0\n",
    "    change = 0\n",
    "    #not change\n",
    "    if gamer == prize:\n",
    "        not_change = 1\n",
    "    \n",
    "    #change\n",
    "    ls.remove(gamer[0])\n",
    "    ls.remove(host(gamer,prize)[0])\n",
    "    #print(ls == prize)\n",
    "    if ls == prize:\n",
    "        change = 1\n",
    "    return not_change, change"
   ]
  },
  {
   "cell_type": "code",
   "execution_count": 10,
   "metadata": {},
   "outputs": [],
   "source": [
    "ls1 = []\n",
    "ls2 = []\n",
    "i = 0\n",
    "while i <= 100000:\n",
    "    ls1.append(simulation()[0])\n",
    "    ls2.append(simulation()[1])\n",
    "    i += 1"
   ]
  },
  {
   "cell_type": "code",
   "execution_count": 11,
   "metadata": {},
   "outputs": [
    {
     "data": {
      "text/plain": [
       "1.9979325223227662"
      ]
     },
     "execution_count": 11,
     "metadata": {},
     "output_type": "execute_result"
    }
   ],
   "source": [
    "np.array(ls2).mean()/np.array(ls1).mean()"
   ]
  }
 ],
 "metadata": {
  "kernelspec": {
   "display_name": "Python 3",
   "language": "python",
   "name": "python3"
  },
  "language_info": {
   "codemirror_mode": {
    "name": "ipython",
    "version": 3
   },
   "file_extension": ".py",
   "mimetype": "text/x-python",
   "name": "python",
   "nbconvert_exporter": "python",
   "pygments_lexer": "ipython3",
   "version": "3.6.5"
  },
  "toc": {
   "base_numbering": 1,
   "nav_menu": {},
   "number_sections": true,
   "sideBar": true,
   "skip_h1_title": false,
   "title_cell": "Table of Contents",
   "title_sidebar": "Contents",
   "toc_cell": false,
   "toc_position": {},
   "toc_section_display": true,
   "toc_window_display": false
  }
 },
 "nbformat": 4,
 "nbformat_minor": 2
}
