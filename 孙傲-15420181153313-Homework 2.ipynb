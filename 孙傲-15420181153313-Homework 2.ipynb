{
 "cells": [
  {
   "cell_type": "markdown",
   "metadata": {},
   "source": [
    "# 孙傲-15420181153313-Homework 2 "
   ]
  },
  {
   "cell_type": "markdown",
   "metadata": {},
   "source": [
    "孙傲\n",
    "\n",
    "15420181153313\n",
    "\n",
    "数理统计系"
   ]
  },
  {
   "cell_type": "code",
   "execution_count": 1,
   "metadata": {},
   "outputs": [],
   "source": [
    "import math\n",
    "import random\n",
    "import matplotlib.pyplot as plt\n",
    "%matplotlib inline"
   ]
  },
  {
   "cell_type": "markdown",
   "metadata": {},
   "source": [
    "## 94 ex19"
   ]
  },
  {
   "cell_type": "markdown",
   "metadata": {},
   "source": [
    "### the inverse transgorm method "
   ]
  },
  {
   "cell_type": "code",
   "execution_count": 2,
   "metadata": {},
   "outputs": [],
   "source": [
    "def myfun(x):\n",
    "    res = (-1+math.sqrt(1 + 8 * x))/2\n",
    "    return res"
   ]
  },
  {
   "cell_type": "code",
   "execution_count": 3,
   "metadata": {},
   "outputs": [],
   "source": [
    "ls = [ ]\n",
    "i = 0\n",
    "while i < 100:\n",
    "    u = random.random()\n",
    "    ls.append(myfun(u))\n",
    "    i = i + 1"
   ]
  },
  {
   "cell_type": "markdown",
   "metadata": {},
   "source": [
    "### the rejection method "
   ]
  },
  {
   "cell_type": "code",
   "execution_count": 4,
   "metadata": {},
   "outputs": [],
   "source": [
    "ls_r = [ ]\n",
    "i = 0\n",
    "\n",
    "def fun(x):\n",
    "    res = (1/2)*(x + x**2)\n",
    "    return res\n",
    "\n",
    "while i < 100:\n",
    "    u = random.random()\n",
    "    Y = u\n",
    "    v = random.random()\n",
    "    if v < fun(Y)/(3/2):\n",
    "        ls_r.append(Y)\n",
    "        i = i + 1"
   ]
  },
  {
   "cell_type": "markdown",
   "metadata": {},
   "source": [
    "### the composition method "
   ]
  },
  {
   "cell_type": "code",
   "execution_count": 5,
   "metadata": {},
   "outputs": [],
   "source": [
    "ls_c = []\n",
    "i = 0\n",
    "\n",
    "while i < 100:\n",
    "    u = random.random()\n",
    "    if u < 1/2:\n",
    "        v = random.random()\n",
    "        ls_c.append(v)\n",
    "    else:\n",
    "        v = random.random()\n",
    "        ls_c.append(math.sqrt(v))\n",
    "    \n",
    "    i = i + 1"
   ]
  },
  {
   "cell_type": "code",
   "execution_count": 6,
   "metadata": {},
   "outputs": [
    {
     "data": {
      "image/png": "[encoded data removed]",
      "text/plain": [
       "<Figure size 432x288 with 1 Axes>"
      ]
     },
     "metadata": {},
     "output_type": "display_data"
    }
   ],
   "source": [
    "plt.hist(ls, color='red', alpha = 0.4,density= True)\n",
    "plt.hist(ls_r, color = 'green', alpha = 0.4,density= True)\n",
    "plt.hist(ls_c,alpha = 0.4,density= True)\n",
    "plt.show()"
   ]
  },
  {
   "cell_type": "markdown",
   "metadata": {},
   "source": [
    "## 94 ex20"
   ]
  },
  {
   "cell_type": "code",
   "execution_count": 7,
   "metadata": {},
   "outputs": [
    {
     "data": {
      "text/latex": [
       "$Y \\sim Exp(1/2)$"
      ],
      "text/plain": [
       "<IPython.core.display.Latex object>"
      ]
     },
     "metadata": {},
     "output_type": "display_data"
    }
   ],
   "source": [
    "%%latex\n",
    "$Y \\sim Exp(1/2)$"
   ]
  },
  {
   "cell_type": "code",
   "execution_count": 8,
   "metadata": {},
   "outputs": [],
   "source": [
    "#定义Y\n",
    "def myfun(x):\n",
    "    res = (1/2)*math.exp(1/2)*(1+x)*math.exp(-1*(x/2))\n",
    "    return res"
   ]
  },
  {
   "cell_type": "code",
   "execution_count": 9,
   "metadata": {},
   "outputs": [
    {
     "data": {
      "text/plain": [
       "0.8243606353500641"
      ]
     },
     "execution_count": 9,
     "metadata": {},
     "output_type": "execute_result"
    }
   ],
   "source": [
    "myfun(0)"
   ]
  },
  {
   "cell_type": "code",
   "execution_count": 10,
   "metadata": {},
   "outputs": [
    {
     "data": {
      "image/png": "[encoded data removed]",
      "text/plain": [
       "<Figure size 432x288 with 1 Axes>"
      ]
     },
     "metadata": {},
     "output_type": "display_data"
    }
   ],
   "source": [
    "ls_e =  []\n",
    "i = 0\n",
    "while i< 1000:\n",
    "    u = random.random()\n",
    "    y = (1/2)*math.exp(-u/2)\n",
    "    v = random.random()\n",
    "    if v < myfun(u):\n",
    "        ls_e.append(u)\n",
    "        i = i + 1\n",
    "\n",
    "plt.hist(ls_e,bins=20,density=True)\n",
    "plt.show()"
   ]
  },
  {
   "cell_type": "markdown",
   "metadata": {},
   "source": [
    "## example 5.f "
   ]
  },
  {
   "cell_type": "code",
   "execution_count": 11,
   "metadata": {},
   "outputs": [],
   "source": [
    "def norm(x):\n",
    "    res = math.sqrt(2/math.pi) * math.exp(x - x**2/2)\n",
    "    return res"
   ]
  },
  {
   "cell_type": "code",
   "execution_count": 12,
   "metadata": {},
   "outputs": [],
   "source": [
    "ls_n = [ ]\n",
    "i = 0 \n",
    "\n",
    "while i < 100:\n",
    "    u = random.random()\n",
    "    Y = -math.log(u)\n",
    "    v = random.random()\n",
    "    if v < norm(Y)/(math.sqrt((2 * math.e)/math.pi)):\n",
    "        ls_n.append(Y)\n",
    "        i = i + 1"
   ]
  },
  {
   "cell_type": "code",
   "execution_count": 13,
   "metadata": {
    "scrolled": false
   },
   "outputs": [
    {
     "data": {
      "text/plain": [
       "(array([16., 17.,  7., 16.,  9., 11.,  8.,  9.,  6.,  1.]),\n",
       " array([1.46339309e-04, 2.04392042e-01, 4.08637744e-01, 6.12883447e-01,\n",
       "        8.17129150e-01, 1.02137485e+00, 1.22562055e+00, 1.42986626e+00,\n",
       "        1.63411196e+00, 1.83835766e+00, 2.04260337e+00]),\n",
       " <a list of 10 Patch objects>)"
      ]
     },
     "execution_count": 13,
     "metadata": {},
     "output_type": "execute_result"
    },
    {
     "data": {
      "image/png": "[encoded data removed]",
      "text/plain": [
       "<Figure size 432x288 with 1 Axes>"
      ]
     },
     "metadata": {},
     "output_type": "display_data"
    }
   ],
   "source": [
    "plt.hist(ls_n)"
   ]
  }
 ],
 "metadata": {
  "kernelspec": {
   "display_name": "Python 3",
   "language": "python",
   "name": "python3"
  },
  "language_info": {
   "codemirror_mode": {
    "name": "ipython",
    "version": 3
   },
   "file_extension": ".py",
   "mimetype": "text/x-python",
   "name": "python",
   "nbconvert_exporter": "python",
   "pygments_lexer": "ipython3",
   "version": "3.6.5"
  },
  "toc": {
   "base_numbering": 1,
   "nav_menu": {},
   "number_sections": true,
   "sideBar": true,
   "skip_h1_title": false,
   "title_cell": "Table of Contents",
   "title_sidebar": "Contents",
   "toc_cell": false,
   "toc_position": {},
   "toc_section_display": true,
   "toc_window_display": false
  }
 },
 "nbformat": 4,
 "nbformat_minor": 2
}
