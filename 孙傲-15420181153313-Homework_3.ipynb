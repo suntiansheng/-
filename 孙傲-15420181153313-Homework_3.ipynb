{
 "cells": [
  {
   "cell_type": "code",
   "execution_count": 1,
   "metadata": {},
   "outputs": [
    {
     "name": "stderr",
     "output_type": "stream",
     "text": [
      "/home/sunao/pyfile/bumblebee/lib/python3.6/importlib/_bootstrap.py:219: RuntimeWarning: numpy.dtype size changed, may indicate binary incompatibility. Expected 96, got 88\n",
      "  return f(*args, **kwds)\n",
      "/home/sunao/pyfile/bumblebee/lib/python3.6/importlib/_bootstrap.py:219: RuntimeWarning: numpy.dtype size changed, may indicate binary incompatibility. Expected 96, got 88\n",
      "  return f(*args, **kwds)\n"
     ]
    }
   ],
   "source": [
    "import numpy as np\n",
    "import random\n",
    "from pandas import DataFrame"
   ]
  },
  {
   "cell_type": "markdown",
   "metadata": {},
   "source": [
    "## exercise 1 "
   ]
  },
  {
   "cell_type": "code",
   "execution_count": 2,
   "metadata": {},
   "outputs": [],
   "source": [
    "with open('./Pressure_vessels.txt','r') as f:\n",
    "    data = f.read()\n",
    "    \n",
    "data = data.split(' ')\n",
    "data = [float(num) for num in data]\n",
    "data = np.array(data)"
   ]
  },
  {
   "cell_type": "markdown",
   "metadata": {},
   "source": [
    "### MLE for theta"
   ]
  },
  {
   "cell_type": "code",
   "execution_count": 3,
   "metadata": {},
   "outputs": [
    {
     "name": "stdout",
     "output_type": "stream",
     "text": [
      "theta_hat =  9892.177\n"
     ]
    }
   ],
   "source": [
    "theta_hat = np.sqrt(np.power(data, 2).sum()/len(data))\n",
    "print('theta_hat = ' , round(theta_hat,3))"
   ]
  },
  {
   "cell_type": "markdown",
   "metadata": {},
   "source": [
    "### 1.2 standard error"
   ]
  },
  {
   "cell_type": "code",
   "execution_count": 4,
   "metadata": {},
   "outputs": [],
   "source": [
    "def bootstrap(X):\n",
    "    X = DataFrame(X)\n",
    "    sample = X.sample(frac = 1, replace = True)\n",
    "    return np.squeeze(np.array(sample),1)"
   ]
  },
  {
   "cell_type": "code",
   "execution_count": 5,
   "metadata": {},
   "outputs": [
    {
     "name": "stdout",
     "output_type": "stream",
     "text": [
      "the standard error of bootstrap theta is 609.595\n"
     ]
    }
   ],
   "source": [
    "def estimate_boostrap_std(X, iter = 100):\n",
    "    i = 0\n",
    "    theta_tidle = []\n",
    "    while i < iter:\n",
    "        sample = bootstrap(data)\n",
    "        theta_tidle.append(np.sqrt(np.power(sample, 2).sum()/len(sample)))\n",
    "        i += 1\n",
    "    \n",
    "    theta_tilde_std = np.std(np.array(theta_tidle))\n",
    "    return theta_tilde_std,theta_tidle\n",
    "\n",
    "theta_tilde_std,theta_tidle = estimate_boostrap_std(data, 10000)\n",
    "\n",
    "print('the standard error of bootstrap theta is',round(theta_tilde_std,3))"
   ]
  },
  {
   "cell_type": "markdown",
   "metadata": {},
   "source": [
    "### 95% confidence interval "
   ]
  },
  {
   "cell_type": "markdown",
   "metadata": {},
   "source": [
    "#### method 1,only use bootstrap theta "
   ]
  },
  {
   "cell_type": "code",
   "execution_count": 6,
   "metadata": {},
   "outputs": [
    {
     "name": "stdout",
     "output_type": "stream",
     "text": [
      "the 95% confidence interval is (8658.694, 11062.754)\n"
     ]
    }
   ],
   "source": [
    "low_bound = np.quantile(theta_tidle,0.025)\n",
    "upper_bound = np.quantile(theta_tidle, 0.975)\n",
    "\n",
    "print('the 95% confidence interval is',(round(low_bound,3),round(upper_bound,3)))"
   ]
  },
  {
   "cell_type": "markdown",
   "metadata": {},
   "source": [
    "#### method 2"
   ]
  },
  {
   "cell_type": "code",
   "execution_count": 7,
   "metadata": {},
   "outputs": [
    {
     "name": "stdout",
     "output_type": "stream",
     "text": [
      "the 95% confidence interval is (8721.599, 11125.66)\n"
     ]
    }
   ],
   "source": [
    "l_bound = 2*theta_hat - upper_bound\n",
    "u_bound = 2*theta_hat - low_bound\n",
    "print('the 95% confidence interval is',(round(l_bound,3),round(u_bound,3)))"
   ]
  },
  {
   "cell_type": "markdown",
   "metadata": {},
   "source": [
    "#### method 3"
   ]
  },
  {
   "cell_type": "code",
   "execution_count": 8,
   "metadata": {},
   "outputs": [
    {
     "name": "stdout",
     "output_type": "stream",
     "text": [
      "the 95% confidence interval is (8707.238, 11140.792)\n"
     ]
    }
   ],
   "source": [
    "i = 0\n",
    "ls_std = []\n",
    "\n",
    "while i < 100:\n",
    "    X = bootstrap(data)\n",
    "    std,ls = estimate_boostrap_std(X)\n",
    "    ls_std.append(std)\n",
    "    i += 1\n",
    "\n",
    "\n",
    "std_m = np.mean(ls_std)\n",
    "\n",
    "s_l = theta_hat - theta_tilde_std*(low_bound  - theta_hat)/std_m\n",
    "s_u = theta_hat - theta_tilde_std*(upper_bound - theta_hat)/std_m\n",
    "\n",
    "print('the 95% confidence interval is',(round(s_u,3),round(s_l,3)))"
   ]
  },
  {
   "cell_type": "markdown",
   "metadata": {},
   "source": [
    "### hypethesis under h_0 is theta = 10000"
   ]
  },
  {
   "cell_type": "code",
   "execution_count": 9,
   "metadata": {},
   "outputs": [],
   "source": [
    "#under h_0\n",
    "\n",
    "def bootstrap_under_h0(X,h0):\n",
    "    X = DataFrame(X)\n",
    "    sample = X.sample(frac = 1, replace = True)\n",
    "    h0_t = (np.sqrt(np.pi)/2)*h0\n",
    "    sample = sample - np.mean(sample) + h0_t\n",
    "    return np.squeeze(np.array(sample),1)"
   ]
  },
  {
   "cell_type": "code",
   "execution_count": 10,
   "metadata": {},
   "outputs": [],
   "source": [
    "i = 0\n",
    "h0 = 10000\n",
    "h0_ls = []\n",
    "while i < 1000:\n",
    "    sample = bootstrap_under_h0(data,h0)\n",
    "    theta_hat_l = np.sqrt(np.power(sample, 2).sum()/len(sample))\n",
    "    h0_ls.append(theta_hat_l)\n",
    "    i += 1\n",
    "\n",
    "interval = np.quantile(h0_ls, [0.025,0.975])"
   ]
  },
  {
   "cell_type": "code",
   "execution_count": 11,
   "metadata": {},
   "outputs": [
    {
     "name": "stdout",
     "output_type": "stream",
     "text": [
      "theta_hat 9892.177 in the 95% confidence interval [ 9642.36723594 10238.10359922]\n"
     ]
    }
   ],
   "source": [
    "print('theta_hat {:.3f} in the 95% confidence interval {}'.format(theta_hat,interval))"
   ]
  },
  {
   "cell_type": "markdown",
   "metadata": {},
   "source": [
    "### hypethesis under h_0 is theta = 12000"
   ]
  },
  {
   "cell_type": "code",
   "execution_count": 12,
   "metadata": {},
   "outputs": [],
   "source": [
    "i = 0\n",
    "h0 = 12000\n",
    "h0_ls = []\n",
    "while i < 1000:\n",
    "    sample = bootstrap_under_h0(data,h0)\n",
    "    theta_hat_l = np.sqrt(np.power(sample, 2).sum()/len(sample))\n",
    "    h0_ls.append(theta_hat_l)\n",
    "    i += 1\n",
    "\n",
    "interval = np.quantile(h0_ls, [0.025,0.975])"
   ]
  },
  {
   "cell_type": "code",
   "execution_count": 13,
   "metadata": {},
   "outputs": [
    {
     "name": "stdout",
     "output_type": "stream",
     "text": [
      "theta_hat 9892.177 NOT in the 95% confidence interval [11277.86280762 11798.24771077]\n"
     ]
    }
   ],
   "source": [
    "print('theta_hat {:.3f} NOT in the 95% confidence interval {}'.format(theta_hat,interval))"
   ]
  },
  {
   "cell_type": "markdown",
   "metadata": {},
   "source": [
    "## exercise 2 "
   ]
  },
  {
   "cell_type": "code",
   "execution_count": 14,
   "metadata": {},
   "outputs": [],
   "source": [
    "sample_1 = np.array([9, 11, 12, 10, 10, 8])\n",
    "sample_2 = np.array([19, 21, 10, 4, 3, 3])"
   ]
  },
  {
   "cell_type": "markdown",
   "metadata": {},
   "source": [
    "### motivation example "
   ]
  },
  {
   "cell_type": "markdown",
   "metadata": {},
   "source": [
    "#### using bootstrap"
   ]
  },
  {
   "cell_type": "code",
   "execution_count": 15,
   "metadata": {},
   "outputs": [],
   "source": [
    "def statistic(x,y):\n",
    "    sum_value = 0\n",
    "    for i in range(6):\n",
    "        res = ((x[i] - y[i])**2)/y[i]\n",
    "        sum_value = sum_value + res\n",
    "        \n",
    "    return sum_value"
   ]
  },
  {
   "cell_type": "code",
   "execution_count": 16,
   "metadata": {},
   "outputs": [],
   "source": [
    "s1 = statistic(sample_1, np.repeat(10,6))\n",
    "s2 = statistic(sample_2, np.repeat(10, 6))"
   ]
  },
  {
   "cell_type": "code",
   "execution_count": 17,
   "metadata": {},
   "outputs": [],
   "source": [
    "def dice():\n",
    "    \n",
    "    dice = np.random.randint(0,7,60)\n",
    "\n",
    "    sample = []\n",
    "    for i in range(7):\n",
    "        sample.append(sum(dice == i))\n",
    "    \n",
    "    return np.array(sample)"
   ]
  },
  {
   "cell_type": "code",
   "execution_count": 18,
   "metadata": {},
   "outputs": [
    {
     "name": "stdout",
     "output_type": "stream",
     "text": [
      "p-value of (1) 0.996     p-value of (2) 0.0\n"
     ]
    }
   ],
   "source": [
    "i = 0\n",
    "p1 = 0\n",
    "p2 = 0\n",
    "\n",
    "l = 1000\n",
    "basis = np.repeat(10, 6)\n",
    "for i in range(l):\n",
    "    res = statistic(dice(), basis)\n",
    "    \n",
    "    if res > s1:\n",
    "        p1 += 1\n",
    "    \n",
    "    if res > s2:\n",
    "        p2 += 1\n",
    "\n",
    "print('p-value of (1)', np.float(p1)/l, '   ',  'p-value of (2)', np.float(p2)/l)"
   ]
  },
  {
   "cell_type": "markdown",
   "metadata": {},
   "source": [
    "#### using  scipy.stats.chi2_contingency"
   ]
  },
  {
   "cell_type": "code",
   "execution_count": 19,
   "metadata": {},
   "outputs": [],
   "source": [
    "import scipy.stats"
   ]
  },
  {
   "cell_type": "code",
   "execution_count": 20,
   "metadata": {},
   "outputs": [],
   "source": [
    "obs1 = np.array([sample_1, [10, 10, 10, 10, 10, 10]])\n",
    "obs2 = np.array([sample_2, [10, 10, 10, 10, 10, 10]])"
   ]
  },
  {
   "cell_type": "code",
   "execution_count": 21,
   "metadata": {},
   "outputs": [
    {
     "data": {
      "text/plain": [
       "0.9919653302331665"
      ]
     },
     "execution_count": 21,
     "metadata": {},
     "output_type": "execute_result"
    }
   ],
   "source": [
    "scipy.stats.chi2_contingency(obs1)[1]"
   ]
  },
  {
   "cell_type": "code",
   "execution_count": 22,
   "metadata": {},
   "outputs": [
    {
     "data": {
      "text/plain": [
       "0.004882354568149485"
      ]
     },
     "execution_count": 22,
     "metadata": {},
     "output_type": "execute_result"
    }
   ],
   "source": [
    "scipy.stats.chi2_contingency(obs2)[1]"
   ]
  },
  {
   "cell_type": "markdown",
   "metadata": {},
   "source": [
    "### M&M "
   ]
  },
  {
   "cell_type": "markdown",
   "metadata": {},
   "source": [
    "#### bootstrap "
   ]
  },
  {
   "cell_type": "code",
   "execution_count": 23,
   "metadata": {},
   "outputs": [],
   "source": [
    "mm = np.array([455, 343, 318, 152, 130, 129])"
   ]
  },
  {
   "cell_type": "code",
   "execution_count": 24,
   "metadata": {},
   "outputs": [],
   "source": [
    "t1 = np.random.randint(1, 11, 100)"
   ]
  },
  {
   "cell_type": "code",
   "execution_count": 25,
   "metadata": {},
   "outputs": [],
   "source": [
    "def mm_simulation():\n",
    "    ls1 = []\n",
    "    sample = np.random.randint(1,11,1527)\n",
    "    ls1.append(sum(sample <=3))\n",
    "    ls1.append(sum(sample <= 5) - sum(sample <=3))\n",
    "    ls1.append(sum(sample <= 7) - sum(sample <=5))\n",
    "    ls1.append(sum(sample <= 8) - sum(sample <=7))\n",
    "    ls1.append(sum(sample <= 9) - sum(sample <=8))\n",
    "    ls1.append(sum(sample <= 10) - sum(sample <=9))\n",
    "    \n",
    "    return ls1"
   ]
  },
  {
   "cell_type": "code",
   "execution_count": 26,
   "metadata": {},
   "outputs": [],
   "source": [
    "def statistic(x,y):\n",
    "    sum_value = 0\n",
    "    for i in range(6):\n",
    "        res = ((x[i] - y[i])**2)/y[i]\n",
    "        sum_value = sum_value + res\n",
    "        \n",
    "    return sum_value"
   ]
  },
  {
   "cell_type": "code",
   "execution_count": 27,
   "metadata": {},
   "outputs": [
    {
     "name": "stdout",
     "output_type": "stream",
     "text": [
      "1.1488757913119425\n",
      "5.769046059812264\n",
      "3.2412137087972033\n",
      "3.280506439641996\n",
      "1.7426326129665957\n",
      "2.3996943898712093\n",
      "1.7873826675398417\n",
      "6.044095175725828\n",
      "1.513425016371969\n",
      "2.216328312595508\n"
     ]
    },
    {
     "data": {
      "text/plain": [
       "0.0"
      ]
     },
     "execution_count": 27,
     "metadata": {},
     "output_type": "execute_result"
    }
   ],
   "source": [
    "m1 = 0\n",
    "m2 = 0\n",
    "l = 10\n",
    "basis = [458.1, 305.4, 305.4, 152.7, 152.7, 152.7]\n",
    "s1 = statistic(mm,basis)\n",
    "for i in range(l):\n",
    "    res = statistic(mm_simulation(), basis)\n",
    "    print(res)\n",
    "    if res >= s1:\n",
    "        m1 += 1\n",
    "\n",
    "m1/l"
   ]
  },
  {
   "cell_type": "markdown",
   "metadata": {},
   "source": [
    "#### scipy.stats.chi2_contingency"
   ]
  },
  {
   "cell_type": "code",
   "execution_count": 28,
   "metadata": {},
   "outputs": [
    {
     "data": {
      "text/plain": [
       "6.263857827409908"
      ]
     },
     "execution_count": 28,
     "metadata": {},
     "output_type": "execute_result"
    }
   ],
   "source": [
    "scipy.stats.chi2_contingency(np.array([mm, basis]))[0]"
   ]
  },
  {
   "cell_type": "markdown",
   "metadata": {},
   "source": [
    "## exercise 3"
   ]
  },
  {
   "cell_type": "code",
   "execution_count": 29,
   "metadata": {},
   "outputs": [],
   "source": [
    "def dweibull(theta, size = 1000):\n",
    "    res = np.random.uniform(0, 1, size = size)\n",
    "    Y = theta*np.sqrt(-np.log(res))\n",
    "    return Y"
   ]
  },
  {
   "cell_type": "markdown",
   "metadata": {},
   "source": [
    "### using bootstrap"
   ]
  },
  {
   "cell_type": "code",
   "execution_count": 30,
   "metadata": {},
   "outputs": [],
   "source": [
    "def weibull(x, theta):\n",
    "    y = 1- np.exp(-(x/theta)**2)\n",
    "    return y"
   ]
  },
  {
   "cell_type": "code",
   "execution_count": 31,
   "metadata": {},
   "outputs": [],
   "source": [
    "import matplotlib.pyplot as plt"
   ]
  },
  {
   "cell_type": "code",
   "execution_count": 32,
   "metadata": {},
   "outputs": [],
   "source": [
    "data.sort()\n",
    "\n",
    "\n",
    "\n",
    "def ecdf(x):\n",
    "    cdf_ls = []\n",
    "    \n",
    "    for i in np.unique(x):\n",
    "        cdf_ls.append(sum(x <= i)/len(x))\n",
    "    \n",
    "    return cdf_ls\n",
    "\n",
    "ec = ecdf(data)"
   ]
  },
  {
   "cell_type": "code",
   "execution_count": 33,
   "metadata": {},
   "outputs": [
    {
     "data": {
      "image/png": "[encoded data removed]",
      "text/plain": [
       "<Figure size 432x288 with 1 Axes>"
      ]
     },
     "metadata": {},
     "output_type": "display_data"
    }
   ],
   "source": [
    "x = np.linspace(1,18000,10)\n",
    "\n",
    "plt.plot(x,weibull(x,10000))\n",
    "\n",
    "\n",
    "plt.plot(np.unique(data), ec, color = 'red')\n",
    "\n",
    "plt.show()"
   ]
  },
  {
   "cell_type": "code",
   "execution_count": 34,
   "metadata": {},
   "outputs": [],
   "source": [
    "sample = bootstrap(data)\n",
    "sample.sort()\n",
    "\n",
    "ex = ecdf(sample)\n",
    "error_list = []\n",
    "\n",
    "for i in range(1,len(np.unique(sample))):\n",
    "\n",
    "    x = sample[i]           \n",
    "    error_plu = np.abs(weibull(x,theta=10000) - ex[i])\n",
    "    error_mine = np.abs(weibull(x,theta=10000) - ex[i - 1])\n",
    "    \n",
    "    error_list.append(error_plu)\n",
    "    error_list.append(error_mine)"
   ]
  },
  {
   "cell_type": "code",
   "execution_count": 35,
   "metadata": {},
   "outputs": [
    {
     "data": {
      "text/plain": [
       "0.16326530612244897"
      ]
     },
     "execution_count": 35,
     "metadata": {},
     "output_type": "execute_result"
    }
   ],
   "source": [
    "i = 0\n",
    "\n",
    "error_all = []\n",
    "while i < 10:\n",
    "    sample = bootstrap(data)\n",
    "    sample.sort()\n",
    "    ex = ecdf(sample)\n",
    "    error_list = []\n",
    "    \n",
    "    for i in range(1,len(np.unique(sample))):\n",
    "            x = sample[i]           \n",
    "            error_plu = np.abs(weibull(x,theta=10000) - ex[i])\n",
    "            error_mine = np.abs(weibull(x,theta=10000) - ex[i - 1])\n",
    "\n",
    "            error_list.append(error_plu)\n",
    "            error_list.append(error_mine)\n",
    "            #print(np.max(error_list))\n",
    "            error_all.append(np.max(error_list))\n",
    "    i += 1\n",
    "\n",
    "error_all = np.array(error_all)\n",
    "sum(np.sqrt(len(data))*error_all > 1.35)/len(data)"
   ]
  },
  {
   "cell_type": "markdown",
   "metadata": {},
   "source": [
    "### scipy.kstest"
   ]
  },
  {
   "cell_type": "code",
   "execution_count": 36,
   "metadata": {},
   "outputs": [],
   "source": [
    "from scipy.stats import ks_2samp"
   ]
  },
  {
   "cell_type": "code",
   "execution_count": 37,
   "metadata": {},
   "outputs": [],
   "source": [
    "def dweibull(theta, size = 1000):\n",
    "    res = np.random.uniform(0, 1, size = size)\n",
    "    Y = theta*np.sqrt(-np.log(res))\n",
    "    return Y"
   ]
  },
  {
   "cell_type": "code",
   "execution_count": 38,
   "metadata": {},
   "outputs": [
    {
     "data": {
      "text/plain": [
       "Ks_2sampResult(statistic=0.1428571428571429, pvalue=0.6652290707012116)"
      ]
     },
     "execution_count": 38,
     "metadata": {},
     "output_type": "execute_result"
    }
   ],
   "source": [
    "x = dweibull(10000,49)\n",
    "\n",
    "ks_2samp(x,data)"
   ]
  }
 ],
 "metadata": {
  "kernelspec": {
   "display_name": "Python 3",
   "language": "python",
   "name": "python3"
  },
  "language_info": {
   "codemirror_mode": {
    "name": "ipython",
    "version": 3
   },
   "file_extension": ".py",
   "mimetype": "text/x-python",
   "name": "python",
   "nbconvert_exporter": "python",
   "pygments_lexer": "ipython3",
   "version": "3.7.0"
  },
  "toc": {
   "base_numbering": 1,
   "nav_menu": {},
   "number_sections": true,
   "sideBar": true,
   "skip_h1_title": false,
   "title_cell": "Table of Contents",
   "title_sidebar": "Contents",
   "toc_cell": false,
   "toc_position": {},
   "toc_section_display": true,
   "toc_window_display": false
  }
 },
 "nbformat": 4,
 "nbformat_minor": 2
}
