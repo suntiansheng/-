{
 "cells": [
  {
   "cell_type": "markdown",
   "metadata": {},
   "source": [
    "### 孙傲-15420181153313-homework4"
   ]
  },
  {
   "cell_type": "code",
   "execution_count": 1,
   "metadata": {},
   "outputs": [],
   "source": [
    "import numpy as np\n",
    "import pandas as pd\n",
    "from pandas import DataFrame\n",
    "from sklearn.linear_model import LinearRegression\n",
    "from scipy import stats\n",
    "import seaborn as sns\n",
    "import matplotlib.pyplot as plt\n",
    "import random"
   ]
  },
  {
   "cell_type": "markdown",
   "metadata": {},
   "source": [
    "## exercise 1 "
   ]
  },
  {
   "cell_type": "markdown",
   "metadata": {},
   "source": [
    "### generate normal sample"
   ]
  },
  {
   "cell_type": "code",
   "execution_count": 2,
   "metadata": {},
   "outputs": [],
   "source": [
    "coef = np.random.rand(5,5)\n",
    "rho = 0.5\n",
    "\n",
    "#generate coeffience\n",
    "for i in range(5):\n",
    "    for j in range(5):\n",
    "        coef[i,j] = rho**np.abs(i-j)\n",
    "\n",
    "        \n",
    "A = np.linalg.cholesky(coef)\n",
    "alpha = 1.\n",
    "beta = np.array([1., 0.8, 0., 0., -1.5])\n",
    "\n",
    "\n",
    "#generate variable Y and  X\n",
    "i = 0\n",
    "Y = []\n",
    "X_matrix = DataFrame(columns=['x1','x2','x3','x4','x5'])\n",
    "while i < 200:\n",
    "    \n",
    "    Z = np.random.randn(5,1) \n",
    "    X = A @ Z \n",
    "    ep = np.random.randn()\n",
    "    y = alpha + beta.T @ X + ep\n",
    "    \n",
    "    #y = float(y)\n",
    "    Y.append(float(y))\n",
    "    \n",
    "    X_matrix.loc[i] = [float(i) for i in X]\n",
    "    i = i + 1"
   ]
  },
  {
   "cell_type": "code",
   "execution_count": 3,
   "metadata": {},
   "outputs": [
    {
     "data": {
      "text/plain": [
       "[-3.8433956841299963,\n",
       " 1.5584497202460454,\n",
       " 1.2252115622009954,\n",
       " 2.6710456839392465,\n",
       " 1.331143182008523]"
      ]
     },
     "execution_count": 3,
     "metadata": {},
     "output_type": "execute_result"
    }
   ],
   "source": [
    "Y[0:5]"
   ]
  },
  {
   "cell_type": "code",
   "execution_count": 4,
   "metadata": {},
   "outputs": [
    {
     "data": {
      "text/html": [
       "<div>\n",
       "<style scoped>\n",
       "    .dataframe tbody tr th:only-of-type {\n",
       "        vertical-align: middle;\n",
       "    }\n",
       "\n",
       "    .dataframe tbody tr th {\n",
       "        vertical-align: top;\n",
       "    }\n",
       "\n",
       "    .dataframe thead th {\n",
       "        text-align: right;\n",
       "    }\n",
       "</style>\n",
       "<table border=\"1\" class=\"dataframe\">\n",
       "  <thead>\n",
       "    <tr style=\"text-align: right;\">\n",
       "      <th></th>\n",
       "      <th>x1</th>\n",
       "      <th>x2</th>\n",
       "      <th>x3</th>\n",
       "      <th>x4</th>\n",
       "      <th>x5</th>\n",
       "    </tr>\n",
       "  </thead>\n",
       "  <tbody>\n",
       "    <tr>\n",
       "      <th>0</th>\n",
       "      <td>-1.254147</td>\n",
       "      <td>-0.103048</td>\n",
       "      <td>-0.359661</td>\n",
       "      <td>-0.451070</td>\n",
       "      <td>1.118798</td>\n",
       "    </tr>\n",
       "    <tr>\n",
       "      <th>1</th>\n",
       "      <td>0.867656</td>\n",
       "      <td>0.943151</td>\n",
       "      <td>1.130906</td>\n",
       "      <td>1.270598</td>\n",
       "      <td>-0.082449</td>\n",
       "    </tr>\n",
       "    <tr>\n",
       "      <th>2</th>\n",
       "      <td>0.044250</td>\n",
       "      <td>0.175795</td>\n",
       "      <td>0.309053</td>\n",
       "      <td>0.894279</td>\n",
       "      <td>0.127776</td>\n",
       "    </tr>\n",
       "    <tr>\n",
       "      <th>3</th>\n",
       "      <td>0.956268</td>\n",
       "      <td>0.089333</td>\n",
       "      <td>0.829826</td>\n",
       "      <td>-1.042633</td>\n",
       "      <td>0.015570</td>\n",
       "    </tr>\n",
       "    <tr>\n",
       "      <th>4</th>\n",
       "      <td>-0.192951</td>\n",
       "      <td>0.588959</td>\n",
       "      <td>0.961973</td>\n",
       "      <td>1.000898</td>\n",
       "      <td>0.448026</td>\n",
       "    </tr>\n",
       "  </tbody>\n",
       "</table>\n",
       "</div>"
      ],
      "text/plain": [
       "         x1        x2        x3        x4        x5\n",
       "0 -1.254147 -0.103048 -0.359661 -0.451070  1.118798\n",
       "1  0.867656  0.943151  1.130906  1.270598 -0.082449\n",
       "2  0.044250  0.175795  0.309053  0.894279  0.127776\n",
       "3  0.956268  0.089333  0.829826 -1.042633  0.015570\n",
       "4 -0.192951  0.588959  0.961973  1.000898  0.448026"
      ]
     },
     "execution_count": 4,
     "metadata": {},
     "output_type": "execute_result"
    }
   ],
   "source": [
    "X_matrix.head()"
   ]
  },
  {
   "cell_type": "markdown",
   "metadata": {},
   "source": [
    "### linear regression "
   ]
  },
  {
   "cell_type": "code",
   "execution_count": 5,
   "metadata": {},
   "outputs": [
    {
     "data": {
      "text/plain": [
       "array([ 1.17816294,  0.6649308 ,  0.06910784,  0.09312396, -1.47420808])"
      ]
     },
     "execution_count": 5,
     "metadata": {},
     "output_type": "execute_result"
    }
   ],
   "source": [
    "regressor = LinearRegression()\n",
    "lm = regressor.fit(X=X_matrix, y=Y)\n",
    "lm.coef_"
   ]
  },
  {
   "cell_type": "markdown",
   "metadata": {},
   "source": [
    "### estimate the interval of beta using residual bootstrap"
   ]
  },
  {
   "cell_type": "code",
   "execution_count": 6,
   "metadata": {},
   "outputs": [
    {
     "data": {
      "text/html": [
       "<div>\n",
       "<style scoped>\n",
       "    .dataframe tbody tr th:only-of-type {\n",
       "        vertical-align: middle;\n",
       "    }\n",
       "\n",
       "    .dataframe tbody tr th {\n",
       "        vertical-align: top;\n",
       "    }\n",
       "\n",
       "    .dataframe thead th {\n",
       "        text-align: right;\n",
       "    }\n",
       "</style>\n",
       "<table border=\"1\" class=\"dataframe\">\n",
       "  <thead>\n",
       "    <tr style=\"text-align: right;\">\n",
       "      <th></th>\n",
       "      <th>b1</th>\n",
       "      <th>b2</th>\n",
       "      <th>b3</th>\n",
       "      <th>b4</th>\n",
       "      <th>b5</th>\n",
       "    </tr>\n",
       "  </thead>\n",
       "  <tbody>\n",
       "    <tr>\n",
       "      <th>0</th>\n",
       "      <td>1.165015</td>\n",
       "      <td>0.632845</td>\n",
       "      <td>-0.113147</td>\n",
       "      <td>0.232238</td>\n",
       "      <td>-1.514159</td>\n",
       "    </tr>\n",
       "    <tr>\n",
       "      <th>1</th>\n",
       "      <td>1.272102</td>\n",
       "      <td>0.635144</td>\n",
       "      <td>-0.126357</td>\n",
       "      <td>0.196741</td>\n",
       "      <td>-1.608662</td>\n",
       "    </tr>\n",
       "    <tr>\n",
       "      <th>2</th>\n",
       "      <td>1.330290</td>\n",
       "      <td>0.683771</td>\n",
       "      <td>-0.003537</td>\n",
       "      <td>0.061798</td>\n",
       "      <td>-1.625446</td>\n",
       "    </tr>\n",
       "    <tr>\n",
       "      <th>3</th>\n",
       "      <td>1.261249</td>\n",
       "      <td>0.788540</td>\n",
       "      <td>-0.016527</td>\n",
       "      <td>-0.131421</td>\n",
       "      <td>-1.660289</td>\n",
       "    </tr>\n",
       "    <tr>\n",
       "      <th>4</th>\n",
       "      <td>1.142399</td>\n",
       "      <td>0.902664</td>\n",
       "      <td>-0.066258</td>\n",
       "      <td>-0.179769</td>\n",
       "      <td>-1.797948</td>\n",
       "    </tr>\n",
       "  </tbody>\n",
       "</table>\n",
       "</div>"
      ],
      "text/plain": [
       "         b1        b2        b3        b4        b5\n",
       "0  1.165015  0.632845 -0.113147  0.232238 -1.514159\n",
       "1  1.272102  0.635144 -0.126357  0.196741 -1.608662\n",
       "2  1.330290  0.683771 -0.003537  0.061798 -1.625446\n",
       "3  1.261249  0.788540 -0.016527 -0.131421 -1.660289\n",
       "4  1.142399  0.902664 -0.066258 -0.179769 -1.797948"
      ]
     },
     "execution_count": 6,
     "metadata": {},
     "output_type": "execute_result"
    }
   ],
   "source": [
    "#compute residual\n",
    "\n",
    "beta_bootstrap = DataFrame(columns=['b1', 'b2', 'b3', 'b4', 'b5'])\n",
    "res = Y - X_matrix @ lm.coef_.T\n",
    "\n",
    "res = res\n",
    "i = 0\n",
    "while i < 100:\n",
    "    #bootstrap from residual\n",
    "    res_b = res.sample(200, replace=True)\n",
    "    \n",
    "    #boostrap from X\n",
    "    X_b = X_matrix.sample(200, replace=True)\n",
    "    \n",
    "    #generate Y\n",
    "    Y_b = np.add(alpha + X_b @ lm.coef_ , res_b)\n",
    "    \n",
    "    lm_b = regressor.fit(X=X_b, y=Y_b)\n",
    "    \n",
    "    beta_bootstrap.loc[i] = [float(_b) for _b in lm_b.coef_]\n",
    "    \n",
    "    i = i + 1\n",
    "\n",
    "beta_bootstrap.head()"
   ]
  },
  {
   "cell_type": "code",
   "execution_count": 7,
   "metadata": {},
   "outputs": [
    {
     "data": {
      "text/html": [
       "<div>\n",
       "<style scoped>\n",
       "    .dataframe tbody tr th:only-of-type {\n",
       "        vertical-align: middle;\n",
       "    }\n",
       "\n",
       "    .dataframe tbody tr th {\n",
       "        vertical-align: top;\n",
       "    }\n",
       "\n",
       "    .dataframe thead th {\n",
       "        text-align: right;\n",
       "    }\n",
       "</style>\n",
       "<table border=\"1\" class=\"dataframe\">\n",
       "  <thead>\n",
       "    <tr style=\"text-align: right;\">\n",
       "      <th></th>\n",
       "      <th>b1</th>\n",
       "      <th>b2</th>\n",
       "      <th>b3</th>\n",
       "      <th>b4</th>\n",
       "      <th>b5</th>\n",
       "    </tr>\n",
       "  </thead>\n",
       "  <tbody>\n",
       "    <tr>\n",
       "      <th>0.05</th>\n",
       "      <td>0.517091</td>\n",
       "      <td>-0.604955</td>\n",
       "      <td>-0.066448</td>\n",
       "      <td>-0.253442</td>\n",
       "      <td>-2.863590</td>\n",
       "    </tr>\n",
       "    <tr>\n",
       "      <th>0.95</th>\n",
       "      <td>1.421520</td>\n",
       "      <td>1.320478</td>\n",
       "      <td>1.892293</td>\n",
       "      <td>1.067243</td>\n",
       "      <td>-1.795082</td>\n",
       "    </tr>\n",
       "  </tbody>\n",
       "</table>\n",
       "</div>"
      ],
      "text/plain": [
       "            b1        b2        b3        b4        b5\n",
       "0.05  0.517091 -0.604955 -0.066448 -0.253442 -2.863590\n",
       "0.95  1.421520  1.320478  1.892293  1.067243 -1.795082"
      ]
     },
     "execution_count": 7,
     "metadata": {},
     "output_type": "execute_result"
    }
   ],
   "source": [
    "beta_bootstrap.quantile([0.05,0.95])"
   ]
  },
  {
   "cell_type": "code",
   "execution_count": 8,
   "metadata": {},
   "outputs": [
    {
     "data": {
      "text/plain": [
       "<matplotlib.axes._subplots.AxesSubplot at 0x1a24adbf98>"
      ]
     },
     "execution_count": 8,
     "metadata": {},
     "output_type": "execute_result"
    },
    {
     "data": {
      "image/png": "[encoded data removed]",
      "text/plain": [
       "<Figure size 432x288 with 1 Axes>"
      ]
     },
     "metadata": {
      "needs_background": "light"
     },
     "output_type": "display_data"
    }
   ],
   "source": [
    "beta_bootstrap.boxplot()"
   ]
  },
  {
   "cell_type": "markdown",
   "metadata": {},
   "source": [
    "### compute std and T-value"
   ]
  },
  {
   "cell_type": "code",
   "execution_count": 9,
   "metadata": {},
   "outputs": [
    {
     "data": {
      "text/plain": [
       "array([False,  True, False,  True,  True])"
      ]
     },
     "execution_count": 9,
     "metadata": {},
     "output_type": "execute_result"
    }
   ],
   "source": [
    "beta_std = np.std(beta_bootstrap, axis=0)\n",
    "statistics = lm.coef_ / beta_std\n",
    "(1 - stats.t.cdf(statistics, 200-5-1)) > 0.05"
   ]
  },
  {
   "cell_type": "markdown",
   "metadata": {},
   "source": [
    "## exercise 2 "
   ]
  },
  {
   "cell_type": "code",
   "execution_count": 29,
   "metadata": {},
   "outputs": [
    {
     "data": {
      "text/plain": [
       "Y    3.946512\n",
       "dtype: float64"
      ]
     },
     "execution_count": 29,
     "metadata": {},
     "output_type": "execute_result"
    }
   ],
   "source": [
    "Y = pd.read_csv('y.txt',header= None)\n",
    "Y.columns = ['Y']\n",
    "np.mean(Y)"
   ]
  },
  {
   "cell_type": "code",
   "execution_count": 73,
   "metadata": {},
   "outputs": [
    {
     "data": {
      "text/plain": [
       "0.3989422804014327"
      ]
     },
     "execution_count": 73,
     "metadata": {},
     "output_type": "execute_result"
    }
   ],
   "source": [
    "stats.norm.pdf(x = 0)"
   ]
  },
  {
   "cell_type": "code",
   "execution_count": 82,
   "metadata": {},
   "outputs": [],
   "source": [
    "def Q(theta,theta_star):\n",
    "    return stats.norm.pdf(x=theta, loc=theta_star,scale=1)\n",
    "\n",
    "# define p(theta|X)\n",
    "def p(theta,Y):\n",
    "    l = (Y-theta)**2\n",
    "    s = l.sum()\n",
    "    res = np.exp(-s/2) * theta**2 * np.exp(-2*theta)\n",
    "    return res\n",
    "\n",
    "#define alpha\n",
    "def al(theta_star, theta, Y):\n",
    "    return (Q(theta,theta_star) * p(theta_star, Y))/(Q(theta_star,theta) * p(theta,Y))\n",
    "\n",
    "i = 0\n",
    "y = random.normalvariate(0,1)\n",
    "\n",
    "\n",
    "ls = [i for i in range(10001)]\n",
    "\n",
    "while i < 10000:\n",
    "        x_star = stats.norm.rvs(loc = ls[i], scale = 1, size = 1)\n",
    "        \n",
    "        res = random.uniform(0,1)\n",
    "        \n",
    "        if res < max(1, float(al(x_star, ls[i], Y))):\n",
    "        \n",
    "            ls[i + 1] = float(x_star)\n",
    "            \n",
    "        else:\n",
    "            ls[i + 1] + ls[i]\n",
    "        \n",
    "        i = i + 1"
   ]
  },
  {
   "cell_type": "code",
   "execution_count": 84,
   "metadata": {},
   "outputs": [
    {
     "data": {
      "text/plain": [
       "-54.38555677533779"
      ]
     },
     "execution_count": 84,
     "metadata": {},
     "output_type": "execute_result"
    }
   ],
   "source": [
    "np.mean(ls[5000:])"
   ]
  },
  {
   "cell_type": "code",
   "execution_count": 39,
   "metadata": {},
   "outputs": [],
   "source": [
    "?stats.norm.rvs"
   ]
  },
  {
   "cell_type": "markdown",
   "metadata": {},
   "source": [
    "## exercise 4 "
   ]
  },
  {
   "cell_type": "markdown",
   "metadata": {},
   "source": [
    "### generate multinormal using Gibbs "
   ]
  },
  {
   "cell_type": "code",
   "execution_count": 10,
   "metadata": {},
   "outputs": [],
   "source": [
    "Sigma = np.array([[1,1,1.5],\n",
    "                 [1,2,2],\n",
    "                 [1.5,2,4]])\n",
    "\n",
    "mu = np.array([1, 3, -2])\n",
    "B = np.linalg.inv(Sigma)\n",
    "\n",
    "#X condition on Y,Z\n",
    "def margin_x(y, z):\n",
    "    \n",
    "    mu_x = mu[0] - (1/B[0,0]) * B[0,[1,2]] @ np.array([[y - mu[1]],[z - mu[2]]]) \n",
    "    sigma_x = 1/B[0,0]\n",
    "    \n",
    "    return float(random.normalvariate(mu_x, sigma_x))\n",
    "\n",
    "def margin_y(x, z):\n",
    "    \n",
    "    mu_y = mu[1] - (1/B[1,1]) * B[1,[0,2]] @ np.array([[x - mu[0]],[z - mu[2]]]) \n",
    "    sigma_y = 1/B[1,1]\n",
    "    \n",
    "    return float(random.normalvariate(mu_y, sigma_y))\n",
    "\n",
    "def margin_z(x, y):\n",
    "    \n",
    "    mu_z = mu[2] - (1/B[2,2]) * B[2,[0,1]] @ np.array([[x - mu[0]],[y - mu[1]]]) \n",
    "    sigma_z = 1/B[2,2]\n",
    "    \n",
    "    return float(random.normalvariate(mu_z, sigma_z))"
   ]
  },
  {
   "cell_type": "code",
   "execution_count": 11,
   "metadata": {},
   "outputs": [],
   "source": [
    "i = 0\n",
    "x_list = []\n",
    "y_list = []\n",
    "z_list = []\n",
    "\n",
    "y = np.random.randn()\n",
    "z = np.random.randn()\n",
    "\n",
    "while i < 100:\n",
    "    x = margin_x(y,z)\n",
    "    y = margin_y(x,z)\n",
    "    z = margin_z(x,y)\n",
    "    \n",
    "    x_list.append(x)\n",
    "    y_list.append(y)\n",
    "    z_list.append(z)\n",
    "\n",
    "    i = i + 1"
   ]
  },
  {
   "cell_type": "code",
   "execution_count": 12,
   "metadata": {},
   "outputs": [
    {
     "data": {
      "image/png": "[encoded data removed]",
      "text/plain": [
       "<Figure size 432x288 with 1 Axes>"
      ]
     },
     "metadata": {
      "needs_background": "light"
     },
     "output_type": "display_data"
    }
   ],
   "source": [
    "plt.hist(x_list)\n",
    "plt.show()"
   ]
  },
  {
   "cell_type": "code",
   "execution_count": 13,
   "metadata": {},
   "outputs": [
    {
     "data": {
      "image/png": "[encoded data removed]",
      "text/plain": [
       "<Figure size 432x288 with 1 Axes>"
      ]
     },
     "metadata": {
      "needs_background": "light"
     },
     "output_type": "display_data"
    }
   ],
   "source": [
    "plt.hist(y_list)\n",
    "plt.show()"
   ]
  },
  {
   "cell_type": "code",
   "execution_count": 14,
   "metadata": {},
   "outputs": [
    {
     "data": {
      "image/png": "[encoded data removed]",
      "text/plain": [
       "<Figure size 432x288 with 1 Axes>"
      ]
     },
     "metadata": {
      "needs_background": "light"
     },
     "output_type": "display_data"
    }
   ],
   "source": [
    "plt.hist(z_list)\n",
    "plt.show()"
   ]
  },
  {
   "cell_type": "markdown",
   "metadata": {},
   "source": [
    "### using cholesky to generate x,y,z"
   ]
  },
  {
   "cell_type": "code",
   "execution_count": 15,
   "metadata": {},
   "outputs": [],
   "source": [
    "A = np.linalg.cholesky(Sigma)\n",
    "\n",
    "mu = np.array([[1], [3], [-2]])\n",
    "\n",
    "#generate variable Y and  X\n",
    "i = 0\n",
    "X_matrix = DataFrame(columns=['x','y','z'])\n",
    "while i < 200:\n",
    "    \n",
    "    Z = np.random.randn(3,1) \n",
    "    X = A @ Z + mu\n",
    "    X_matrix.loc[i] = [float(i) for i in X]\n",
    "    i = i + 1"
   ]
  },
  {
   "cell_type": "markdown",
   "metadata": {},
   "source": [
    "### compare "
   ]
  },
  {
   "cell_type": "code",
   "execution_count": 16,
   "metadata": {},
   "outputs": [
    {
     "data": {
      "text/plain": [
       "<matplotlib.axes._subplots.AxesSubplot at 0x1a250f3c18>"
      ]
     },
     "execution_count": 16,
     "metadata": {},
     "output_type": "execute_result"
    },
    {
     "data": {
      "image/png": "[encoded data removed]",
      "text/plain": [
       "<Figure size 432x288 with 1 Axes>"
      ]
     },
     "metadata": {
      "needs_background": "light"
     },
     "output_type": "display_data"
    }
   ],
   "source": [
    "DataFrame([x_list,y_list,z_list]).T.boxplot()"
   ]
  },
  {
   "cell_type": "code",
   "execution_count": 17,
   "metadata": {},
   "outputs": [
    {
     "data": {
      "text/plain": [
       "<matplotlib.axes._subplots.AxesSubplot at 0x1a2520b828>"
      ]
     },
     "execution_count": 17,
     "metadata": {},
     "output_type": "execute_result"
    },
    {
     "data": {
      "image/png": "[encoded data removed]",
      "text/plain": [
       "<Figure size 432x288 with 1 Axes>"
      ]
     },
     "metadata": {
      "needs_background": "light"
     },
     "output_type": "display_data"
    }
   ],
   "source": [
    "X_matrix.boxplot()"
   ]
  },
  {
   "cell_type": "markdown",
   "metadata": {},
   "source": [
    "according to the boxplot, the distribution of gibbs and orinigal multinorm are very similar.\n",
    "\n",
    "because Gbbis satisfy detailed balance condition, and it doesn't need to discard some data."
   ]
  }
 ],
 "metadata": {
  "kernelspec": {
   "display_name": "Python 3",
   "language": "python",
   "name": "python3"
  },
  "language_info": {
   "codemirror_mode": {
    "name": "ipython",
    "version": 3
   },
   "file_extension": ".py",
   "mimetype": "text/x-python",
   "name": "python",
   "nbconvert_exporter": "python",
   "pygments_lexer": "ipython3",
   "version": "3.7.0"
  }
 },
 "nbformat": 4,
 "nbformat_minor": 2
}
